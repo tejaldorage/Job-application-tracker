{
 "cells": [
  {
   "cell_type": "code",
   "execution_count": 5,
   "id": "be681803-8ffc-4ed2-93c2-6da11521f2fb",
   "metadata": {},
   "outputs": [],
   "source": [
    "import pandas as pd\n",
    "data = {\n",
    "    'Application ID': ['APP-001', 'APP-002', 'APP-003'],\n",
    "    'Company Name': ['OpenAI', 'Google', 'Meta'],\n",
    "    'Job Title': ['AI Engineer', 'Software Developer', 'Data Analyst'],\n",
    "    'Status':['Applied', 'Interviewed', 'Offered'],\n",
    "    'Date Applied':['22/06/2023','02/05/2024','03/04/2025']\n",
    "}\n",
    "df = pd.DataFrame(columns=['Application ID','Company Name','Job Title','Status'])\n",
    "df.to_excel('applications.xlsx',index=False)\n"
   ]
  },
  {
   "cell_type": "code",
   "execution_count": 5,
   "id": "81cda918-5497-46da-940c-41879ec44952",
   "metadata": {},
   "outputs": [],
   "source": [
    "#Application='app021'\n",
    "#Company Name = 'naudwnjx'\n",
    "#Job Title = 'ewuidgose'\n",
    "#Status = 'jdwheub'\n",
    "##df.loc[len(df)] = [Application ID,Company Name,job Title,Status]\n",
    "#df.to_excel('applications.xlsx',index=False)"
   ]
  },
  {
   "cell_type": "code",
   "execution_count": null,
   "id": "5ceaebdb-9521-400e-ac4a-1ac0f3888a2e",
   "metadata": {},
   "outputs": [],
   "source": []
  }
 ],
 "metadata": {
  "kernelspec": {
   "display_name": "Python 3 (ipykernel)",
   "language": "python",
   "name": "python3"
  },
  "language_info": {
   "codemirror_mode": {
    "name": "ipython",
    "version": 3
   },
   "file_extension": ".py",
   "mimetype": "text/x-python",
   "name": "python",
   "nbconvert_exporter": "python",
   "pygments_lexer": "ipython3",
   "version": "3.12.7"
  }
 },
 "nbformat": 4,
 "nbformat_minor": 5
}
